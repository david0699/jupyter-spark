{
 "cells": [
  {
   "cell_type": "code",
   "execution_count": 3,
   "id": "f09c5b9c-dd93-4afc-9ffc-b11447e54bab",
   "metadata": {},
   "outputs": [
    {
     "data": {
      "text/plain": [
       "import spark.implicits._\n",
       "data: Seq[(String, Int)] = List((David,20), (David,15), (Alba,23), (Yasmina,27), (Alba,18))\n",
       "agesDf: org.apache.spark.sql.DataFrame = [name: string, age: int]\n"
      ]
     },
     "execution_count": 3,
     "metadata": {},
     "output_type": "execute_result"
    }
   ],
   "source": [
    "import spark.implicits._\n",
    "//create DataFrame with name and ages\n",
    "val data = Seq((\"David\",20),(\"David\",15),(\"Alba\",23),(\"Yasmina\",27),(\"Alba\",18))\n",
    "val agesDf = spark.createDataFrame(data).toDF(\"name\",\"age\")"
   ]
  },
  {
   "cell_type": "code",
   "execution_count": 5,
   "id": "62545c9d-45dc-4eac-8d9d-25c5203f751e",
   "metadata": {},
   "outputs": [
    {
     "name": "stdout",
     "output_type": "stream",
     "text": [
      "+-------+-----------+\n",
      "|   name|age average|\n",
      "+-------+-----------+\n",
      "|  David|       17.5|\n",
      "|   Alba|       20.5|\n",
      "|Yasmina|       27.0|\n",
      "+-------+-----------+\n",
      "\n"
     ]
    },
    {
     "data": {
      "text/plain": [
       "avgAgeDf: org.apache.spark.sql.Dataset[org.apache.spark.sql.Row] = [name: string, age average: double]\n"
      ]
     },
     "execution_count": 5,
     "metadata": {},
     "output_type": "execute_result"
    }
   ],
   "source": [
    "//Group names and aggregate age average\n",
    "val avgAgeDf = agesDf\n",
    "    .groupBy($\"name\")\n",
    "    .agg(avg($\"age\").as(\"age average\"))\n",
    "    .orderBy($\"age average\")\n",
    "\n",
    "avgAgeDf.show"
   ]
  },
  {
   "cell_type": "code",
   "execution_count": null,
   "id": "ba85eda6-4f13-4727-b58a-4e10d355813a",
   "metadata": {},
   "outputs": [],
   "source": []
  }
 ],
 "metadata": {
  "kernelspec": {
   "display_name": "spylon-kernel",
   "language": "scala",
   "name": "spylon-kernel"
  },
  "language_info": {
   "codemirror_mode": "text/x-scala",
   "file_extension": ".scala",
   "help_links": [
    {
     "text": "MetaKernel Magics",
     "url": "https://metakernel.readthedocs.io/en/latest/source/README.html"
    }
   ],
   "mimetype": "text/x-scala",
   "name": "scala",
   "pygments_lexer": "scala",
   "version": "0.4.1"
  }
 },
 "nbformat": 4,
 "nbformat_minor": 5
}
