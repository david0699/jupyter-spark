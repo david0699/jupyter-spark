{
 "cells": [
  {
   "cell_type": "code",
   "execution_count": 1,
   "id": "3e48f474-38a2-4f77-ba64-8b45b4212a90",
   "metadata": {
    "tags": []
   },
   "outputs": [
    {
     "data": {
      "text/plain": [
       "Intitializing Scala interpreter ..."
      ]
     },
     "metadata": {},
     "output_type": "display_data"
    },
    {
     "data": {
      "text/plain": [
       "Spark Web UI available at http://725a4c8e5c14:4040\n",
       "SparkContext available as 'sc' (version = 3.2.1, master = local[*], app id = local-1648483399783)\n",
       "SparkSession available as 'spark'\n"
      ]
     },
     "metadata": {},
     "output_type": "display_data"
    },
    {
     "data": {
      "text/plain": [
       "import org.apache.spark.sql.types.{BooleanType, FloatType, IntegerType, StringType, StructField, StructType}\n",
       "import spark.implicits._\n",
       "schema: org.apache.spark.sql.types.StructType = StructType(StructField(CallNumber,IntegerType,true), StructField(UnitID,StringType,true), StructField(IncidentNumber,IntegerType,true), StructField(CallType,StringType,true), StructField(CallDate,StringType,true), StructField(WatchDate,StringType,true), StructField(CallFinalDisposition,StringType,true), StructField(AvailableDtTm,StringType,true), StructField(Address,StringType,true), StructField(City,StringType,true), StructField(Zipcode,IntegerType,true), StructField(Battalion,StringType,true), StructField(StationArea,StringType,true), StructField(Box,StringType,true), StructField(OriginalPriority,StringTyp...\n"
      ]
     },
     "execution_count": 1,
     "metadata": {},
     "output_type": "execute_result"
    }
   ],
   "source": [
    "import org.apache.spark.sql.types.{BooleanType, FloatType, IntegerType, StringType, StructField, StructType}\n",
    "import spark.implicits._\n",
    "\n",
    "val schema = StructType(List(StructField(\"CallNumber\", IntegerType, true)\n",
    "  ,StructField(\"UnitID\", StringType, true)\n",
    "  ,StructField(\"IncidentNumber\", IntegerType, true)\n",
    "  ,StructField(\"CallType\", StringType, true)\n",
    "  ,StructField(\"CallDate\", StringType, true)\n",
    "  ,StructField(\"WatchDate\", StringType, true)\n",
    "  ,StructField(\"CallFinalDisposition\", StringType, true)\n",
    "  ,StructField(\"AvailableDtTm\", StringType, true)\n",
    "  ,StructField(\"Address\", StringType, true)\n",
    "  ,StructField(\"City\", StringType, true)\n",
    "  ,StructField(\"Zipcode\", IntegerType, true)\n",
    "  ,StructField(\"Battalion\", StringType, true)\n",
    "  ,StructField(\"StationArea\", StringType, true)\n",
    "  ,StructField(\"Box\", StringType, true)\n",
    "  ,StructField(\"OriginalPriority\", StringType, true)\n",
    "  ,StructField(\"Priority\", StringType, true)\n",
    "  ,StructField(\"FinalPriority\", IntegerType, true)\n",
    "  ,StructField(\"ALSUnit\", BooleanType, true)\n",
    "  ,StructField(\"CallTypeGroup\", StringType, true)\n",
    "  ,StructField(\"NumAlarms\", IntegerType, true)\n",
    "  ,StructField(\"UnitType\", StringType, true)\n",
    "  ,StructField(\"UnitSequenceInCallDispatch\", IntegerType, true)\n",
    "  ,StructField(\"FirePreventionDistrict\", StringType, true)\n",
    "  ,StructField(\"SupervisorDistrict\", StringType, true)\n",
    "  ,StructField(\"Neighborhood\", StringType, true)\n",
    "  ,StructField(\"Location\", StringType, true)\n",
    "  ,StructField(\"RowID\", StringType, true)\n",
    "  ,StructField(\"Delay\", FloatType, true)))\n",
    "\n",
    "val fireCallsDf = spark.read.schema(schema).csv(\"../../resources/chapter3/sf-fire-calls.csv\")"
   ]
  },
  {
   "cell_type": "code",
   "execution_count": 2,
   "id": "5688639a-a590-4b56-bd5a-eb7495cf9433",
   "metadata": {
    "tags": []
   },
   "outputs": [
    {
     "name": "stdout",
     "output_type": "stream",
     "text": [
      "+-------------------------------+-------------+\n",
      "|CallType                       |NumberOfCalls|\n",
      "+-------------------------------+-------------+\n",
      "|Medical Incident               |113794       |\n",
      "|Structure Fire                 |23319        |\n",
      "|Alarms                         |19406        |\n",
      "|Traffic Collision              |7013         |\n",
      "|Citizen Assist / Service Call  |2524         |\n",
      "|Other                          |2166         |\n",
      "|Outside Fire                   |2094         |\n",
      "|Vehicle Fire                   |854          |\n",
      "|Gas Leak (Natural and LP Gases)|764          |\n",
      "|Water Rescue                   |755          |\n",
      "|Odor (Strange / Unknown)       |490          |\n",
      "|Electrical Hazard              |482          |\n",
      "|Elevator / Escalator Rescue    |453          |\n",
      "|Smoke Investigation (Outside)  |391          |\n",
      "|Fuel Spill                     |193          |\n",
      "|HazMat                         |124          |\n",
      "|Industrial Accidents           |94           |\n",
      "|Explosion                      |89           |\n",
      "|Train / Rail Incident          |57           |\n",
      "|Aircraft Emergency             |36           |\n",
      "+-------------------------------+-------------+\n",
      "only showing top 20 rows\n",
      "\n"
     ]
    },
    {
     "data": {
      "text/plain": [
       "commonFireCallsDf: org.apache.spark.sql.DataFrame = [CallType: string, NumberOfCalls: bigint]\n"
      ]
     },
     "execution_count": 2,
     "metadata": {},
     "output_type": "execute_result"
    }
   ],
   "source": [
    "//Most common type of fire calls\n",
    "val commonFireCallsDf = fireCallsDf.select($\"CallType\")\n",
    "  .where($\"CallType\".isNotNull)\n",
    "  .groupBy($\"CallType\")\n",
    "  .count()\n",
    "  .sort(desc(\"count\"))\n",
    "  .withColumnRenamed(\"count\",\"NumberOfCalls\")\n",
    "\n",
    "commonFireCallsDf.show(false)"
   ]
  },
  {
   "cell_type": "code",
   "execution_count": 3,
   "id": "057d41d2-2bcd-4841-b204-3c6fccefe935",
   "metadata": {
    "tags": []
   },
   "outputs": [
    {
     "name": "stdout",
     "output_type": "stream",
     "text": [
      "+-------------------+-------------------+-------------------+\n",
      "|CallDate           |WatchDate          |AvailableDtTm      |\n",
      "+-------------------+-------------------+-------------------+\n",
      "|2010-12-31 00:00:00|2010-12-31 00:00:00|2010-12-31 10:42:35|\n",
      "|2010-12-31 00:00:00|2010-12-31 00:00:00|2010-12-31 12:03:58|\n",
      "|2010-12-31 00:00:00|2010-12-31 00:00:00|2010-12-31 15:00:26|\n",
      "|2010-12-31 00:00:00|2010-12-31 00:00:00|2010-12-31 13:19:54|\n",
      "|2010-12-31 00:00:00|2010-12-31 00:00:00|2010-12-31 14:09:05|\n",
      "|2010-12-31 00:00:00|2010-12-31 00:00:00|2010-12-31 14:30:57|\n",
      "|2010-12-31 00:00:00|2010-12-30 00:00:00|2010-12-31 00:42:41|\n",
      "|2010-12-31 00:00:00|2010-12-30 00:00:00|2010-12-31 03:40:30|\n",
      "|2010-12-31 00:00:00|2010-12-31 00:00:00|2010-12-31 13:18:39|\n",
      "|2010-12-31 00:00:00|2010-12-31 00:00:00|2010-12-31 13:04:53|\n",
      "|2010-12-31 00:00:00|2010-12-30 00:00:00|null               |\n",
      "|2010-12-31 00:00:00|2010-12-31 00:00:00|2010-12-31 13:23:55|\n",
      "|2010-12-31 00:00:00|2010-12-31 00:00:00|2010-12-31 11:16:28|\n",
      "|2010-12-31 00:00:00|2010-12-31 00:00:00|2010-12-31 12:38:12|\n",
      "|2010-12-31 00:00:00|2010-12-31 00:00:00|2010-12-31 15:16:56|\n",
      "|2010-12-31 00:00:00|2010-12-30 00:00:00|2010-12-31 02:40:23|\n",
      "|2010-12-31 00:00:00|2010-12-31 00:00:00|2010-12-31 15:33:23|\n",
      "|2010-12-31 00:00:00|2010-12-30 00:00:00|2010-12-31 00:42:51|\n",
      "|2010-12-31 00:00:00|2010-12-30 00:00:00|2010-12-31 04:43:35|\n",
      "|2010-12-31 00:00:00|2010-12-30 00:00:00|2010-12-31 02:03:18|\n",
      "+-------------------+-------------------+-------------------+\n",
      "only showing top 20 rows\n",
      "\n"
     ]
    },
    {
     "data": {
      "text/plain": [
       "dateFormatDf: org.apache.spark.sql.Dataset[org.apache.spark.sql.Row] = [CallDate: timestamp, WatchDate: timestamp ... 1 more field]\n"
      ]
     },
     "execution_count": 3,
     "metadata": {},
     "output_type": "execute_result"
    }
   ],
   "source": [
    "//Convert String to date format and filter by year\n",
    "spark.conf.set(\"spark.sql.legacy.timeParserPolicy\",\"LEGACY\")\n",
    "val dateFormatDf = fireCallsDf.select($\"CallDate\",$\"WatchDate\",$\"AvailableDtTm\")\n",
    "  .withColumn(\"CallDate\",to_timestamp($\"CallDate\",\"MM/dd/yy\"))\n",
    "  .withColumn(\"WatchDate\",to_timestamp($\"WatchDate\",\"MM/dd/yy\"))\n",
    "  .withColumn(\"AvailableDtTm\",to_timestamp($\"AvailableDtTm\",\"MM/dd/yy hh:mm:ss a\"))\n",
    "  .filter(year($\"CallDate\").between(2005,2010))\n",
    "  .orderBy(desc(\"CallDate\"))\n",
    "\n",
    "dateFormatDf.show(false)"
   ]
  },
  {
   "cell_type": "code",
   "execution_count": 4,
   "id": "c6f36cd9-dc05-473d-9619-0a469496557d",
   "metadata": {},
   "outputs": [],
   "source": [
    "fireCallsDf.coalesce(1)\n",
    "        .write\n",
    "        .mode(\"overwrite\")\n",
    "        .option(\"header\", \"true\")\n",
    "        .csv(\"../../output/scala/chapter3/fireCalls/\")\n",
    "\n",
    "dateFormatDf.coalesce(1)\n",
    "        .write\n",
    "        .mode(\"overwrite\")\n",
    "        .json(\"../../output/scala/chapter3/fireCallsDates/\")\n",
    "\n",
    "commonFireCallsDf.coalesce(1)\n",
    "        .write\n",
    "        .mode(\"overwrite\")\n",
    "        .option(\"sep\",\"|\")\n",
    "        .parquet(\"../../output/scala/chapter3/commonCallsDates/\")\n",
    "\n",
    "/*spark.conf.set(\"spark.jars.packages\",\"com.databricks:spark-avro_2.10:2.0.1,com.databricks:spark-csv_2.10:1.5.0\")\n",
    "fireCallsDf.coalesce(1)\n",
    "        .write\n",
    "        .mode(\"overwrite\")\n",
    "        .format(\"avro\")\n",
    "        .save(\"../../output/scala/chapter3/fireCallsAVRO/\")*/"
   ]
  },
  {
   "cell_type": "code",
   "execution_count": null,
   "id": "51494a37-4e38-48ba-aa19-11f7b1f88f7b",
   "metadata": {},
   "outputs": [],
   "source": []
  }
 ],
 "metadata": {
  "kernelspec": {
   "display_name": "spylon-kernel",
   "language": "scala",
   "name": "spylon-kernel"
  },
  "language_info": {
   "codemirror_mode": "text/x-scala",
   "file_extension": ".scala",
   "help_links": [
    {
     "text": "MetaKernel Magics",
     "url": "https://metakernel.readthedocs.io/en/latest/source/README.html"
    }
   ],
   "mimetype": "text/x-scala",
   "name": "scala",
   "pygments_lexer": "scala",
   "version": "0.4.1"
  }
 },
 "nbformat": 4,
 "nbformat_minor": 5
}
