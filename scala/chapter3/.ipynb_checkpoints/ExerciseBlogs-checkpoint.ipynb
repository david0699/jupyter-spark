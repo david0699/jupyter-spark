{
 "cells": [
  {
   "cell_type": "code",
   "execution_count": 2,
   "id": "5e1d2c01-5c5c-439b-b282-1682e381aa23",
   "metadata": {},
   "outputs": [
    {
     "data": {
      "text/plain": [
       "import spark.implicits._\n",
       "import org.apache.spark.sql.types.{ArrayType, IntegerType, StringType, StructField, StructType}\n",
       "schema: org.apache.spark.sql.types.StructType = StructType(StructField(Id,IntegerType,false), StructField(First,StringType,false), StructField(Last,StringType,false), StructField(Url,StringType,false), StructField(Published,StringType,false), StructField(Hits,IntegerType,false), StructField(Campaigns,ArrayType(StringType,true),false))\n",
       "blogsDf: org.apache.spark.sql.DataFrame = [Id: int, First: string ... 5 more fields]\n"
      ]
     },
     "execution_count": 2,
     "metadata": {},
     "output_type": "execute_result"
    }
   ],
   "source": [
    "import spark.implicits._\n",
    "import org.apache.spark.sql.types.{ArrayType, IntegerType, StringType, StructField, StructType}\n",
    "val schema = StructType(List(StructField(\"Id\", IntegerType, false),\n",
    "      StructField(\"First\", StringType, false),\n",
    "      StructField(\"Last\", StringType, false),\n",
    "      StructField(\"Url\", StringType, false),\n",
    "      StructField(\"Published\", StringType, false),\n",
    "      StructField(\"Hits\", IntegerType, false),\n",
    "      StructField(\"Campaigns\", ArrayType(StringType, true), false)))\n",
    "\n",
    "val blogsDf = spark.read.schema(schema).json(\"../../resources/chapter3/blogs.json\")"
   ]
  },
  {
   "cell_type": "code",
   "execution_count": 3,
   "id": "a09af8f7-03ac-4e45-9510-3cc47468dd04",
   "metadata": {},
   "outputs": [
    {
     "name": "stdout",
     "output_type": "stream",
     "text": [
      "Id \n",
      "First \n",
      "Last \n",
      "Url \n",
      "Published \n",
      "Hits \n",
      "Campaigns \n"
     ]
    },
    {
     "data": {
      "text/plain": [
       "arrayColumns: Array[String] = Array(Id, First, Last, Url, Published, Hits, Campaigns)\n"
      ]
     },
     "execution_count": 3,
     "metadata": {},
     "output_type": "execute_result"
    }
   ],
   "source": [
    "val arrayColumns = blogsDf.columns\n",
    "arrayColumns.foreach(a=>print(a + \" \\n\"))"
   ]
  },
  {
   "cell_type": "code",
   "execution_count": 4,
   "id": "83f8d214-c4eb-41e0-9cc1-f36b3c8ceeca",
   "metadata": {},
   "outputs": [
    {
     "name": "stdout",
     "output_type": "stream",
     "text": [
      "+---+---------+-------+-----------------+---------+-----+--------------------+-------+\n",
      "| Id|    First|   Last|              Url|Published| Hits|           Campaigns|BigHits|\n",
      "+---+---------+-------+-----------------+---------+-----+--------------------+-------+\n",
      "|  6|  Reynold|    Xin|https://tinyurl.6| 3/2/2015|25568| [twitter, LinkedIn]|   true|\n",
      "|  5|    Matei|Zaharia|https://tinyurl.5|5/14/2014|40578|[web, twitter, FB...|   true|\n",
      "|  4|Tathagata|    Das|https://tinyurl.4|5/12/2018|10568|       [twitter, FB]|   true|\n",
      "|  3|    Denny|    Lee|https://tinyurl.3| 6/7/2019| 7659|[web, twitter, FB...|  false|\n",
      "|  2|   Brooke|  Wenig|https://tinyurl.2| 5/5/2018| 8908| [twitter, LinkedIn]|  false|\n",
      "|  1|    Jules|  Damji|https://tinyurl.1| 1/4/2016| 4535| [twitter, LinkedIn]|  false|\n",
      "+---+---------+-------+-----------------+---------+-----+--------------------+-------+\n",
      "\n"
     ]
    },
    {
     "data": {
      "text/plain": [
       "BigHitsDf: org.apache.spark.sql.Dataset[org.apache.spark.sql.Row] = [Id: int, First: string ... 6 more fields]\n"
      ]
     },
     "execution_count": 4,
     "metadata": {},
     "output_type": "execute_result"
    }
   ],
   "source": [
    "//Add column BigHits and sort by descend Id\n",
    "val BigHitsDf = blogsDf\n",
    "  .withColumn(\"BigHits\",$\"Hits\">10000)\n",
    "  .sort(desc(\"Id\"))\n",
    "BigHitsDf.show()"
   ]
  },
  {
   "cell_type": "code",
   "execution_count": null,
   "id": "990f79ff-e1f2-40e0-a5ce-5f98a7ab8e13",
   "metadata": {},
   "outputs": [],
   "source": []
  }
 ],
 "metadata": {
  "kernelspec": {
   "display_name": "spylon-kernel",
   "language": "scala",
   "name": "spylon-kernel"
  },
  "language_info": {
   "codemirror_mode": "text/x-scala",
   "file_extension": ".scala",
   "help_links": [
    {
     "text": "MetaKernel Magics",
     "url": "https://metakernel.readthedocs.io/en/latest/source/README.html"
    }
   ],
   "mimetype": "text/x-scala",
   "name": "scala",
   "pygments_lexer": "scala",
   "version": "0.4.1"
  }
 },
 "nbformat": 4,
 "nbformat_minor": 5
}
