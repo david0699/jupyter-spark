{
 "cells": [
  {
   "cell_type": "code",
   "execution_count": 6,
   "id": "20b3c4f7-475a-4fba-8f4c-86b0c3905d1e",
   "metadata": {},
   "outputs": [
    {
     "data": {
      "text/plain": [
       "import spark.implicits._\n",
       "import org.apache.spark.sql.types.TimestampType\n",
       "fligthsDf: org.apache.spark.sql.DataFrame = [date: int, delay: int ... 3 more fields]\n",
       "fligthsDateDf: org.apache.spark.sql.DataFrame = [date: timestamp, delay: int ... 3 more fields]\n"
      ]
     },
     "execution_count": 6,
     "metadata": {},
     "output_type": "execute_result"
    }
   ],
   "source": [
    "import spark.implicits._\n",
    "import org.apache.spark.sql.types.TimestampType\n",
    "val fligthsDf = spark.read.option(\"header\",\"true\").option(\"inferSchema\",\"true\").csv(\"../../resources/chapter4/departuredelays.csv\")\n",
    "//Convert unix to timestamp\n",
    "val fligthsDateDf = fligthsDf.select($\"date\".cast(TimestampType).as(\"date\"),$\"delay\",$\"distance\",$\"origin\",$\"destination\")"
   ]
  },
  {
   "cell_type": "code",
   "execution_count": 7,
   "id": "7948aa6b-1d59-442b-8b07-fa9deeb359c2",
   "metadata": {},
   "outputs": [],
   "source": [
    "//Create temporary view\n",
    "    fligthsDateDf.createOrReplaceTempView(\"us_delay_flights_tbl\")"
   ]
  },
  {
   "cell_type": "code",
   "execution_count": 9,
   "id": "da4194d3-0ae5-4805-b503-37c5986cf2c7",
   "metadata": {
    "collapsed": true,
    "jupyter": {
     "outputs_hidden": true
    },
    "tags": []
   },
   "outputs": [
    {
     "name": "stdout",
     "output_type": "stream",
     "text": [
      "+--------+------+-----------+\n",
      "|distance|origin|destination|\n",
      "+--------+------+-----------+\n",
      "|    4330|   HNL|        JFK|\n",
      "|    4330|   HNL|        JFK|\n",
      "|    4330|   HNL|        JFK|\n",
      "|    4330|   HNL|        JFK|\n",
      "|    4330|   HNL|        JFK|\n",
      "|    4330|   HNL|        JFK|\n",
      "|    4330|   HNL|        JFK|\n",
      "|    4330|   HNL|        JFK|\n",
      "|    4330|   HNL|        JFK|\n",
      "|    4330|   HNL|        JFK|\n",
      "+--------+------+-----------+\n",
      "only showing top 10 rows\n",
      "\n",
      "+-------------------+-----+------+-----------+\n",
      "|               date|delay|origin|destination|\n",
      "+-------------------+-----+------+-----------+\n",
      "|1970-01-26 08:35:25| 1638|   SFO|        ORD|\n",
      "|1970-01-12 22:35:55|  396|   SFO|        ORD|\n",
      "|1970-01-12 19:58:50|  326|   SFO|        ORD|\n",
      "|1970-01-13 04:00:05|  320|   SFO|        ORD|\n",
      "|1970-01-14 18:48:45|  297|   SFO|        ORD|\n",
      "|1970-01-26 03:05:15|  296|   SFO|        ORD|\n",
      "|1970-01-13 09:30:40|  279|   SFO|        ORD|\n",
      "|1970-01-13 04:05:50|  274|   SFO|        ORD|\n",
      "|1970-02-06 02:52:10|  266|   SFO|        ORD|\n",
      "|1970-01-15 14:18:24|  258|   SFO|        ORD|\n",
      "+-------------------+-----+------+-----------+\n",
      "only showing top 10 rows\n",
      "\n",
      "+-----+------+-----------+-------------+\n",
      "|delay|origin|destination|Flight_Delays|\n",
      "+-----+------+-----------+-------------+\n",
      "|  333|   ABE|        ATL|  Long Delays|\n",
      "|  305|   ABE|        ATL|  Long Delays|\n",
      "|  275|   ABE|        ATL|  Long Delays|\n",
      "|  257|   ABE|        ATL|  Long Delays|\n",
      "|  247|   ABE|        DTW|  Long Delays|\n",
      "|  247|   ABE|        ATL|  Long Delays|\n",
      "|  219|   ABE|        ORD|  Long Delays|\n",
      "|  211|   ABE|        ATL|  Long Delays|\n",
      "|  197|   ABE|        DTW|  Long Delays|\n",
      "|  192|   ABE|        ORD|  Long Delays|\n",
      "+-----+------+-----------+-------------+\n",
      "only showing top 10 rows\n",
      "\n"
     ]
    }
   ],
   "source": [
    "//Do some querys over temporary view\n",
    "    spark.sql(\"\"\"SELECT distance, origin, destination\n",
    "     FROM us_delay_flights_tbl\n",
    "     WHERE distance > 1000\n",
    "     ORDER BY distance DESC\"\"\").show(10)\n",
    "\n",
    "    spark.sql(\"\"\"SELECT date, delay, origin, destination\n",
    "     FROM us_delay_flights_tbl\n",
    "     WHERE delay > 120 AND ORIGIN = 'SFO' AND DESTINATION = 'ORD'\n",
    "     ORDER by delay DESC\"\"\").show(10)\n",
    "\n",
    "    spark.sql(\"\"\"SELECT delay, origin, destination,\n",
    "     CASE\n",
    "       WHEN delay > 360 THEN 'Very Long Delays'\n",
    "       WHEN delay > 120 AND delay < 360 THEN 'Long Delays'\n",
    "       WHEN delay > 60 AND delay < 120 THEN 'Short Delays'\n",
    "       WHEN delay > 0 and delay < 60 THEN 'Tolerable Delays'\n",
    "       WHEN delay = 0 THEN 'No Delays'\n",
    "       ELSE 'Early'\n",
    "     END AS Flight_Delays\n",
    "     FROM us_delay_flights_tbl\n",
    "     ORDER BY origin, delay DESC\"\"\").show(10)"
   ]
  },
  {
   "cell_type": "code",
   "execution_count": 11,
   "id": "c3339eed-0674-42d2-aefd-ec83f7aa0206",
   "metadata": {
    "collapsed": true,
    "jupyter": {
     "outputs_hidden": true
    },
    "tags": []
   },
   "outputs": [
    {
     "name": "stdout",
     "output_type": "stream",
     "text": [
      "+----------+------+--------------+----------------+----------+----------+--------------------+--------------------+--------------------+----+-------+---------+-----------+----+----------------+--------+-------------+-------+-------------+---------+--------+--------------------------+----------------------+------------------+--------------------+--------------------+-------------+---------+\n",
      "|CallNumber|UnitID|IncidentNumber|        CallType|  CallDate| WatchDate|CallFinalDisposition|       AvailableDtTm|             Address|City|Zipcode|Battalion|StationArea| Box|OriginalPriority|Priority|FinalPriority|ALSUnit|CallTypeGroup|NumAlarms|UnitType|UnitSequenceInCallDispatch|FirePreventionDistrict|SupervisorDistrict|        Neighborhood|            Location|        RowID|    Delay|\n",
      "+----------+------+--------------+----------------+----------+----------+--------------------+--------------------+--------------------+----+-------+---------+-----------+----+----------------+--------+-------------+-------+-------------+---------+--------+--------------------------+----------------------+------------------+--------------------+--------------------+-------------+---------+\n",
      "|      null|UnitID|          null|        CallType|  CallDate| WatchDate|CallFinalDisposition|       AvailableDtTm|             Address|City|   null|Battalion|StationArea| Box|OriginalPriority|Priority|         null|   null|CallTypeGroup|     null|UnitType|                      null|  FirePreventionDis...|SupervisorDistrict|        Neighborhood|            Location|        RowID|     null|\n",
      "|  20110016|   T13|       2003235|  Structure Fire|01/11/2002|01/10/2002|               Other|01/11/2002 01:51:...|2000 Block of CAL...|  SF|  94109|      B04|         38|3362|               3|       3|            3|  false|         null|        1|   TRUCK|                         2|                     4|                 5|     Pacific Heights|(37.7895840679362...|020110016-T13|     2.95|\n",
      "|  20110022|   M17|       2003241|Medical Incident|01/11/2002|01/10/2002|               Other|01/11/2002 03:01:...|0 Block of SILVER...|  SF|  94124|      B10|         42|6495|               3|       3|            3|   true|         null|        1|   MEDIC|                         1|                    10|                10|Bayview Hunters P...|(37.7337623673897...|020110022-M17|      4.7|\n",
      "|  20110023|   M41|       2003242|Medical Incident|01/11/2002|01/10/2002|               Other|01/11/2002 02:39:...|MARKET ST/MCALLIS...|  SF|  94102|      B03|         01|1455|               3|       3|            3|   true|         null|        1|   MEDIC|                         2|                     3|                 6|          Tenderloin|(37.7811772186856...|020110023-M41|2.4333334|\n",
      "|  20110032|   E11|       2003250|    Vehicle Fire|01/11/2002|01/10/2002|               Other|01/11/2002 04:16:...|APPLETON AV/MISSI...|  SF|  94110|      B06|         32|5626|               3|       3|            3|  false|         null|        1|  ENGINE|                         1|                     6|                 9|      Bernal Heights|(37.7388432849018...|020110032-E11|      1.5|\n",
      "+----------+------+--------------+----------------+----------+----------+--------------------+--------------------+--------------------+----+-------+---------+-----------+----+----------------+--------+-------------+-------+-------------+---------+--------+--------------------------+----------------------+------------------+--------------------+--------------------+-------------+---------+\n",
      "only showing top 5 rows\n",
      "\n",
      "+--------------------+--------------------+--------------------+\n",
      "|       AvailableDtTm|            CallDate|           WatchDate|\n",
      "+--------------------+--------------------+--------------------+\n",
      "|2010-12-31T00:42:...|2010-12-31T00:00:...|2010-12-30T00:00:...|\n",
      "|2010-12-31T00:42:...|2010-12-31T00:00:...|2010-12-30T00:00:...|\n",
      "|2010-12-31T02:03:...|2010-12-31T00:00:...|2010-12-30T00:00:...|\n",
      "|2010-12-31T02:40:...|2010-12-31T00:00:...|2010-12-30T00:00:...|\n",
      "|2010-12-31T03:40:...|2010-12-31T00:00:...|2010-12-30T00:00:...|\n",
      "+--------------------+--------------------+--------------------+\n",
      "only showing top 5 rows\n",
      "\n",
      "+--------------------+-------------+\n",
      "|            CallType|NumberOfCalls|\n",
      "+--------------------+-------------+\n",
      "|    Medical Incident|       113794|\n",
      "|      Structure Fire|        23319|\n",
      "|              Alarms|        19406|\n",
      "|   Traffic Collision|         7013|\n",
      "|Citizen Assist / ...|         2524|\n",
      "+--------------------+-------------+\n",
      "only showing top 5 rows\n",
      "\n"
     ]
    }
   ],
   "source": [
    "//Read files created in chapter3\n",
    "spark.read.option(\"header\",\"true\").option(\"inferSchema\",\"true\").csv(\"../../output/scala/chapter3/fireCalls/\").show(5)\n",
    "spark.read.option(\"inferSchema\",\"true\").option(\"inferSchema\",\"true\").json(\"../../output/scala/chapter3/fireCallsDates/\").show(5)\n",
    "spark.read.parquet(\"../../output/scala/chapter3/commonCallsDates/\").show(5)"
   ]
  }
 ],
 "metadata": {
  "kernelspec": {
   "display_name": "spylon-kernel",
   "language": "scala",
   "name": "spylon-kernel"
  },
  "language_info": {
   "codemirror_mode": "text/x-scala",
   "file_extension": ".scala",
   "help_links": [
    {
     "text": "MetaKernel Magics",
     "url": "https://metakernel.readthedocs.io/en/latest/source/README.html"
    }
   ],
   "mimetype": "text/x-scala",
   "name": "scala",
   "pygments_lexer": "scala",
   "version": "0.4.1"
  }
 },
 "nbformat": 4,
 "nbformat_minor": 5
}
