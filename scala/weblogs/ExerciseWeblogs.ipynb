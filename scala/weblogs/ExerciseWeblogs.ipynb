{
 "cells": [
  {
   "cell_type": "code",
   "execution_count": 2,
   "id": "bfa00af4-d753-48be-bfc3-91fb813945ff",
   "metadata": {},
   "outputs": [
    {
     "name": "stdout",
     "output_type": "stream",
     "text": [
      "root\n",
      " |-- requesting_host: string (nullable = true)\n",
      " |-- datetime: timestamp (nullable = true)\n",
      " |-- request: string (nullable = true)\n",
      " |-- status: integer (nullable = true)\n",
      " |-- response_size: integer (nullable = true)\n",
      "\n"
     ]
    },
    {
     "data": {
      "text/plain": [
       "import spark.implicits._\n",
       "rawWebLogsDf: org.apache.spark.sql.DataFrame = [requesting_host: string, datetime: timestamp ... 3 more fields]\n"
      ]
     },
     "execution_count": 2,
     "metadata": {},
     "output_type": "execute_result"
    }
   ],
   "source": [
    "import spark.implicits._\n",
    "val rawWebLogsDf = spark.read.option(\"sep\",\" \").option(\"header\",\"true\").option(\"inferSchema\",\"true\").csv(\"../../resources/weblogs/nasa_aug95.csv\")\n",
    "rawWebLogsDf.printSchema"
   ]
  },
  {
   "cell_type": "code",
   "execution_count": 7,
   "id": "5d573a63-899b-4f20-9ca4-7631c26bfcde",
   "metadata": {},
   "outputs": [
    {
     "data": {
      "text/plain": [
       "import org.apache.spark.sql.functions.regexp_extract\n",
       "weblogsDf: org.apache.spark.sql.Dataset[org.apache.spark.sql.Row] = [requesting_host: string, datetime: timestamp ... 5 more fields]\n"
      ]
     },
     "execution_count": 7,
     "metadata": {},
     "output_type": "execute_result"
    }
   ],
   "source": [
    "//Clean Data\n",
    "import org.apache.spark.sql.functions.regexp_extract\n",
    "val weblogsDf = rawWebLogsDf.select($\"requesting_host\"\n",
    "      ,$\"datetime\"\n",
    "      ,regexp_extract($\"request\",\"(\\\\w*)(\\\\s)/\",1).as(\"requestMethod\")\n",
    "      ,regexp_extract($\"request\",\"\\\\s(/[\\\\S ]* )\",1).as(\"requestResource\")\n",
    "      ,regexp_extract($\"request\",\"\\\\s([A-Z]+/\\\\w*.\\\\d*)\",1).as(\"requestProtocol\")\n",
    "      ,$\"status\"\n",
    "      ,$\"response_size\").cache()"
   ]
  },
  {
   "cell_type": "code",
   "execution_count": 8,
   "id": "97d3a80b-9a09-440a-8d37-a6fdb77ea77a",
   "metadata": {},
   "outputs": [
    {
     "name": "stdout",
     "output_type": "stream",
     "text": [
      "+---------------+\n",
      "|requestProtocol|\n",
      "+---------------+\n",
      "|      HTTP/V1.0|\n",
      "|       HTTP/1.0|\n",
      "|       HTML/1.0|\n",
      "+---------------+\n",
      "\n"
     ]
    },
    {
     "data": {
      "text/plain": [
       "protocolsDf: org.apache.spark.sql.DataFrame = [requestProtocol: string]\n"
      ]
     },
     "execution_count": 8,
     "metadata": {},
     "output_type": "execute_result"
    }
   ],
   "source": [
    "//Select distinct web protocols\n",
    "val protocolsDf = weblogsDf.select(when($\"requestProtocol\".rlike(\"[a-zA_Z0-9]\"),$\"requestProtocol\").as(\"requestProtocol\"))\n",
    "  .distinct()\n",
    "  .na.drop()\n",
    "\n",
    "protocolsDf.show()"
   ]
  },
  {
   "cell_type": "code",
   "execution_count": 9,
   "id": "3c22d900-3320-4240-866f-9addda6910c4",
   "metadata": {},
   "outputs": [
    {
     "name": "stdout",
     "output_type": "stream",
     "text": [
      "+------+-------+\n",
      "|status|  count|\n",
      "+------+-------+\n",
      "|   200|1398988|\n",
      "|   304| 134146|\n",
      "|   302|  26497|\n",
      "|   404|  10054|\n",
      "|   403|    171|\n",
      "|   501|     27|\n",
      "|   500|      3|\n",
      "|   400|      2|\n",
      "+------+-------+\n",
      "\n"
     ]
    },
    {
     "data": {
      "text/plain": [
       "statusDf: org.apache.spark.sql.Dataset[org.apache.spark.sql.Row] = [status: int, count: bigint]\n"
      ]
     },
     "execution_count": 9,
     "metadata": {},
     "output_type": "execute_result"
    }
   ],
   "source": [
    "//Select most common status codes\n",
    "val statusDf = weblogsDf.select($\"status\")\n",
    "  .groupBy($\"status\")\n",
    "  .count()\n",
    "  .orderBy(desc(\"count\"))\n",
    "\n",
    "statusDf.show()"
   ]
  },
  {
   "cell_type": "code",
   "execution_count": 10,
   "id": "8932301e-d159-4bde-b4a1-5c81690a71a7",
   "metadata": {},
   "outputs": [
    {
     "name": "stdout",
     "output_type": "stream",
     "text": [
      "+-------------+-------+\n",
      "|requestMethod|  count|\n",
      "+-------------+-------+\n",
      "|          GET|1565753|\n",
      "|         HEAD|   3965|\n",
      "|         POST|    111|\n",
      "|             |     59|\n",
      "+-------------+-------+\n",
      "\n"
     ]
    },
    {
     "data": {
      "text/plain": [
       "methodDf: org.apache.spark.sql.Dataset[org.apache.spark.sql.Row] = [requestMethod: string, count: bigint]\n"
      ]
     },
     "execution_count": 10,
     "metadata": {},
     "output_type": "execute_result"
    }
   ],
   "source": [
    "//Select most common status codes\n",
    "val methodDf = weblogsDf.select($\"requestMethod\")\n",
    "  .groupBy($\"requestMethod\")\n",
    "  .count()\n",
    "  .orderBy(desc(\"count\"))\n",
    "\n",
    "methodDf.show()"
   ]
  },
  {
   "cell_type": "code",
   "execution_count": 12,
   "id": "44e0e226-92e0-4ad4-9b17-9e2b652cc5b0",
   "metadata": {},
   "outputs": [
    {
     "name": "stdout",
     "output_type": "stream",
     "text": [
      "+--------------------+-----------------+\n",
      "|     requestResource|totalByteTransfer|\n",
      "+--------------------+-----------------+\n",
      "|/shuttle/missions...|       1639323120|\n",
      "+--------------------+-----------------+\n",
      "\n"
     ]
    },
    {
     "data": {
      "text/plain": [
       "mostDataTransferResource: org.apache.spark.sql.Dataset[org.apache.spark.sql.Row] = [requestResource: string, totalByteTransfer: bigint]\n"
      ]
     },
     "execution_count": 12,
     "metadata": {},
     "output_type": "execute_result"
    }
   ],
   "source": [
    "//Resource with most data transfer\n",
    "val mostDataTransferResource = weblogsDf.groupBy($\"requestResource\")\n",
    "  .agg(sum($\"response_size\").as(\"totalByteTransfer\"))\n",
    "  .na.drop()\n",
    "  .orderBy(desc(\"totalByteTransfer\"))\n",
    "  .limit(1)\n",
    "\n",
    "mostDataTransferResource.show()"
   ]
  },
  {
   "cell_type": "code",
   "execution_count": 13,
   "id": "c7a883e2-31d3-4308-b610-0f70c8c891f5",
   "metadata": {},
   "outputs": [
    {
     "name": "stdout",
     "output_type": "stream",
     "text": [
      "+--------------------+-----+\n",
      "|     requestResource|count|\n",
      "+--------------------+-----+\n",
      "|/images/NASA-logo...|97267|\n",
      "|/images/KSC-logos...|75278|\n",
      "|/images/MOSAIC-lo...|67349|\n",
      "|/images/USA-logos...|66968|\n",
      "|/images/WORLD-log...|66344|\n",
      "|/images/ksclogo-m...|62663|\n",
      "|          /ksc.html |43616|\n",
      "|/history/apollo/i...|37804|\n",
      "|/images/launch-lo...|35116|\n",
      "|                  / |30104|\n",
      "|/images/ksclogosm...|27787|\n",
      "|/shuttle/missions...|24592|\n",
      "|/shuttle/countdown/ |24442|\n",
      "|/shuttle/missions...|24361|\n",
      "|/shuttle/missions...|23390|\n",
      "|/shuttle/missions...|22427|\n",
      "|/images/launchmed...|19861|\n",
      "| /htbin/cdt_main.pl |17236|\n",
      "|/shuttle/countdow...|12152|\n",
      "|    /icons/menu.xbm |12128|\n",
      "+--------------------+-----+\n",
      "only showing top 20 rows\n",
      "\n"
     ]
    },
    {
     "data": {
      "text/plain": [
       "mostRegistersResource: org.apache.spark.sql.Dataset[org.apache.spark.sql.Row] = [requestResource: string, count: bigint]\n"
      ]
     },
     "execution_count": 13,
     "metadata": {},
     "output_type": "execute_result"
    }
   ],
   "source": [
    "//Resource with most registers\n",
    "val mostRegistersResource = weblogsDf.groupBy($\"requestResource\")\n",
    "  .count()\n",
    "  .orderBy(desc(\"count\"))\n",
    "\n",
    "mostRegistersResource.show()"
   ]
  },
  {
   "cell_type": "code",
   "execution_count": 14,
   "id": "b14283de-2fc7-49c5-b871-7904b44dec17",
   "metadata": {},
   "outputs": [
    {
     "name": "stdout",
     "output_type": "stream",
     "text": [
      "+----------+-----+\n",
      "|      Date|count|\n",
      "+----------+-----+\n",
      "|1995-08-31|90122|\n",
      "+----------+-----+\n",
      "\n"
     ]
    },
    {
     "data": {
      "text/plain": [
       "mostTrafficDay: org.apache.spark.sql.Dataset[org.apache.spark.sql.Row] = [Date: date, count: bigint]\n"
      ]
     },
     "execution_count": 14,
     "metadata": {},
     "output_type": "execute_result"
    }
   ],
   "source": [
    "//Most traffic day\n",
    "val mostTrafficDay = weblogsDf.select(to_date($\"datetime\").as(\"Date\"))\n",
    "  .groupBy($\"Date\")\n",
    "  .count()\n",
    "  .orderBy(desc(\"count\"))\n",
    "  .limit(1)\n",
    "\n",
    "mostTrafficDay.show()"
   ]
  },
  {
   "cell_type": "code",
   "execution_count": 15,
   "id": "206be1da-6467-4a8c-ad33-e3f230da04af",
   "metadata": {},
   "outputs": [
    {
     "name": "stdout",
     "output_type": "stream",
     "text": [
      "+----+------+\n",
      "|Hour| count|\n",
      "+----+------+\n",
      "|  15|109461|\n",
      "|  12|105143|\n",
      "|  13|104535|\n",
      "|  14|101393|\n",
      "|  16| 99527|\n",
      "|  11| 95340|\n",
      "|  10| 88309|\n",
      "|  17| 80834|\n",
      "|   9| 78695|\n",
      "|  18| 66809|\n",
      "|   8| 65443|\n",
      "|  22| 60673|\n",
      "|  20| 59944|\n",
      "|  19| 59315|\n",
      "|  21| 57985|\n",
      "|  23| 54570|\n",
      "|   0| 47862|\n",
      "|   7| 47386|\n",
      "|   1| 38531|\n",
      "|   2| 32508|\n",
      "|   6| 31287|\n",
      "|   3| 29995|\n",
      "|   5| 27587|\n",
      "|   4| 26756|\n",
      "+----+------+\n",
      "\n"
     ]
    },
    {
     "data": {
      "text/plain": [
       "mostTrafficHours: Unit = ()\n"
      ]
     },
     "execution_count": 15,
     "metadata": {},
     "output_type": "execute_result"
    }
   ],
   "source": [
    "//Most traffic hours\n",
    "val mostTrafficHours = weblogsDf.select(hour($\"datetime\").as(\"Hour\"))\n",
    "  .groupBy($\"Hour\")\n",
    "  .count()\n",
    "  .orderBy(desc(\"count\")).show(24)"
   ]
  },
  {
   "cell_type": "code",
   "execution_count": 16,
   "id": "6c052e17-978c-4572-abc6-1929d90feb44",
   "metadata": {},
   "outputs": [
    {
     "name": "stdout",
     "output_type": "stream",
     "text": [
      "+--------------------+-----+\n",
      "|     requesting_host|count|\n",
      "+--------------------+-----+\n",
      "|  edams.ksc.nasa.gov| 6530|\n",
      "|piweba4y.prodigy.com| 4846|\n",
      "|        163.206.89.4| 4791|\n",
      "|piweba5y.prodigy.com| 4607|\n",
      "|piweba3y.prodigy.com| 4416|\n",
      "|www-d1.proxy.aol.com| 3889|\n",
      "|www-b2.proxy.aol.com| 3534|\n",
      "|www-b3.proxy.aol.com| 3463|\n",
      "|www-c5.proxy.aol.com| 3423|\n",
      "|www-b5.proxy.aol.com| 3411|\n",
      "|www-c2.proxy.aol.com| 3407|\n",
      "|www-d2.proxy.aol.com| 3404|\n",
      "|www-a2.proxy.aol.com| 3337|\n",
      "|         news.ti.com| 3298|\n",
      "|www-d3.proxy.aol.com| 3296|\n",
      "|www-b4.proxy.aol.com| 3293|\n",
      "|www-c3.proxy.aol.com| 3272|\n",
      "|www-d4.proxy.aol.com| 3234|\n",
      "|www-c1.proxy.aol.com| 3177|\n",
      "|www-c4.proxy.aol.com| 3134|\n",
      "+--------------------+-----+\n",
      "only showing top 20 rows\n",
      "\n"
     ]
    },
    {
     "data": {
      "text/plain": [
       "mostFrequencyHosts: org.apache.spark.sql.Dataset[org.apache.spark.sql.Row] = [requesting_host: string, count: bigint]\n"
      ]
     },
     "execution_count": 16,
     "metadata": {},
     "output_type": "execute_result"
    }
   ],
   "source": [
    "//Most frequency hosts\n",
    "val mostFrequencyHosts = weblogsDf.groupBy($\"requesting_host\")\n",
    "  .count()\n",
    "  .orderBy(desc(\"count\"))\n",
    "\n",
    "mostFrequencyHosts.show()"
   ]
  },
  {
   "cell_type": "code",
   "execution_count": 17,
   "id": "bbeba96d-5a37-4339-8642-d9b5aba5da42",
   "metadata": {},
   "outputs": [
    {
     "name": "stdout",
     "output_type": "stream",
     "text": [
      "+----------+----------+\n",
      "|      date|404 Errors|\n",
      "+----------+----------+\n",
      "|1995-08-30|       571|\n",
      "|1995-08-07|       537|\n",
      "|1995-08-31|       526|\n",
      "|1995-08-24|       420|\n",
      "|1995-08-29|       420|\n",
      "|1995-08-25|       415|\n",
      "|1995-08-28|       410|\n",
      "|1995-08-08|       391|\n",
      "|1995-08-06|       373|\n",
      "|1995-08-27|       370|\n",
      "|1995-08-26|       366|\n",
      "|1995-08-04|       346|\n",
      "|1995-08-23|       345|\n",
      "|1995-08-15|       327|\n",
      "|1995-08-10|       315|\n",
      "|1995-08-20|       312|\n",
      "|1995-08-21|       305|\n",
      "|1995-08-03|       303|\n",
      "|1995-08-22|       288|\n",
      "|1995-08-14|       287|\n",
      "+----------+----------+\n",
      "only showing top 20 rows\n",
      "\n"
     ]
    },
    {
     "data": {
      "text/plain": [
       "error404Day: org.apache.spark.sql.Dataset[org.apache.spark.sql.Row] = [date: date, 404 Errors: bigint]\n"
      ]
     },
     "execution_count": 17,
     "metadata": {},
     "output_type": "execute_result"
    }
   ],
   "source": [
    "//Errors 404 per day\n",
    "val error404Day = weblogsDf.select(to_date($\"datetime\").as(\"date\"),$\"status\")\n",
    "  .filter($\"status\".equalTo(404))\n",
    "  .groupBy($\"date\")\n",
    "  .agg(count($\"date\").as(\"404 Errors\"))\n",
    "  .orderBy(desc(\"404 Errors\"))\n",
    "\n",
    "error404Day.show()"
   ]
  },
  {
   "cell_type": "code",
   "execution_count": null,
   "id": "cd694b95-bc10-4160-a7cd-212251ef20ef",
   "metadata": {},
   "outputs": [],
   "source": []
  }
 ],
 "metadata": {
  "kernelspec": {
   "display_name": "spylon-kernel",
   "language": "scala",
   "name": "spylon-kernel"
  },
  "language_info": {
   "codemirror_mode": "text/x-scala",
   "file_extension": ".scala",
   "help_links": [
    {
     "text": "MetaKernel Magics",
     "url": "https://metakernel.readthedocs.io/en/latest/source/README.html"
    }
   ],
   "mimetype": "text/x-scala",
   "name": "scala",
   "pygments_lexer": "scala",
   "version": "0.4.1"
  }
 },
 "nbformat": 4,
 "nbformat_minor": 5
}
