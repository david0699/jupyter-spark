{
 "cells": [
  {
   "cell_type": "code",
   "execution_count": 1,
   "id": "06019655-eaa7-4ca9-bec1-d604b48d1fcf",
   "metadata": {},
   "outputs": [
    {
     "data": {
      "text/plain": [
       "Intitializing Scala interpreter ..."
      ]
     },
     "metadata": {},
     "output_type": "display_data"
    },
    {
     "data": {
      "text/plain": [
       "Spark Web UI available at http://725a4c8e5c14:4040\n",
       "SparkContext available as 'sc' (version = 3.2.1, master = local[*], app id = local-1647506543044)\n",
       "SparkSession available as 'spark'\n"
      ]
     },
     "metadata": {},
     "output_type": "display_data"
    },
    {
     "data": {
      "text/plain": [
       "import spark.implicits._\n",
       "df: org.apache.spark.sql.DataFrame = [COD_DISTRITO: int, DESC_DISTRITO: string ... 10 more fields]\n"
      ]
     },
     "execution_count": 1,
     "metadata": {},
     "output_type": "execute_result"
    }
   ],
   "source": [
    "import spark.implicits._\n",
    "val df = spark.read.option(\"sep\",\";\").option(\"header\",\"true\").option(\"inferSchema\",\"true\").option(\"ignoreTrailingWhiteSpace\",\"true\")\n",
    "    .csv(\"/home/jovyan/LearningSpark2/resources/Rango_Edades_Seccion_202203.csv\").na.fill(0)\n",
    "    .withColumn(\"DESC_DISTRITO\",trim($\"DESC_DISTRITO\")).withColumn(\"DESC_BARRIO\",trim($\"DESC_BARRIO\"))"
   ]
  },
  {
   "cell_type": "code",
   "execution_count": 2,
   "id": "da2d376e-155a-4ab9-a81a-07e4bc738fcc",
   "metadata": {
    "tags": []
   },
   "outputs": [
    {
     "name": "stdout",
     "output_type": "stream",
     "text": [
      "+------------+-------------+---------------+-----------+----------+----------------+-----------+------------+----------------+----------------+------------------+------------------+\n",
      "|COD_DISTRITO|DESC_DISTRITO|COD_DIST_BARRIO|DESC_BARRIO|COD_BARRIO|COD_DIST_SECCION|COD_SECCION|COD_EDAD_INT|EspanolesHombres|EspanolesMujeres|ExtranjerosHombres|ExtranjerosMujeres|\n",
      "+------------+-------------+---------------+-----------+----------+----------------+-----------+------------+----------------+----------------+------------------+------------------+\n",
      "|           1|       CENTRO|            101|    PALACIO|         1|            1001|          1|           0|               3|               1|                 1|                 0|\n",
      "|           1|       CENTRO|            101|    PALACIO|         1|            1001|          1|           1|               5|               2|                 1|                 0|\n",
      "|           1|       CENTRO|            101|    PALACIO|         1|            1001|          1|           2|               2|               2|                 1|                 3|\n",
      "|           1|       CENTRO|            101|    PALACIO|         1|            1001|          1|           3|               4|               2|                 0|                 1|\n",
      "|           1|       CENTRO|            101|    PALACIO|         1|            1001|          1|           4|               2|               0|                 1|                 2|\n",
      "+------------+-------------+---------------+-----------+----------+----------------+-----------+------------+----------------+----------------+------------------+------------------+\n",
      "only showing top 5 rows\n",
      "\n",
      "root\n",
      " |-- COD_DISTRITO: integer (nullable = false)\n",
      " |-- DESC_DISTRITO: string (nullable = true)\n",
      " |-- COD_DIST_BARRIO: integer (nullable = false)\n",
      " |-- DESC_BARRIO: string (nullable = true)\n",
      " |-- COD_BARRIO: integer (nullable = false)\n",
      " |-- COD_DIST_SECCION: integer (nullable = false)\n",
      " |-- COD_SECCION: integer (nullable = false)\n",
      " |-- COD_EDAD_INT: integer (nullable = false)\n",
      " |-- EspanolesHombres: integer (nullable = false)\n",
      " |-- EspanolesMujeres: integer (nullable = false)\n",
      " |-- ExtranjerosHombres: integer (nullable = false)\n",
      " |-- ExtranjerosMujeres: integer (nullable = false)\n",
      "\n"
     ]
    }
   ],
   "source": [
    "df.show(5)\n",
    "df.printSchema()"
   ]
  },
  {
   "cell_type": "code",
   "execution_count": 3,
   "id": "6e3d96ba-74b6-4857-9944-835d8527a949",
   "metadata": {
    "collapsed": true,
    "jupyter": {
     "outputs_hidden": true,
     "source_hidden": true
    },
    "tags": []
   },
   "outputs": [
    {
     "name": "stdout",
     "output_type": "stream",
     "text": [
      "+-----------------+\n",
      "|      DESC_BARRIO|\n",
      "+-----------------+\n",
      "|    LOS JERONIMOS|\n",
      "|       NI�O JESUS|\n",
      "|         VALVERDE|\n",
      "|           CORTES|\n",
      "|PALOMERAS SURESTE|\n",
      "|        TRAFALGAR|\n",
      "|           HELLIN|\n",
      "|     VISTA ALEGRE|\n",
      "|        FONTARRON|\n",
      "|           VENTAS|\n",
      "| FUENTE DEL BERRO|\n",
      "|           LUCERO|\n",
      "|         PACIFICO|\n",
      "|   CUATRO CAMINOS|\n",
      "|CASCO H.VICALVARO|\n",
      "|         EL PILAR|\n",
      "|        ARGUELLES|\n",
      "|    VALDEACEDERAS|\n",
      "|         CANILLAS|\n",
      "|     VALLEHERMOSO|\n",
      "+-----------------+\n",
      "only showing top 20 rows\n",
      "\n"
     ]
    },
    {
     "data": {
      "text/plain": [
       "barriosDf: org.apache.spark.sql.Dataset[org.apache.spark.sql.Row] = [DESC_BARRIO: string]\n"
      ]
     },
     "execution_count": 3,
     "metadata": {},
     "output_type": "execute_result"
    }
   ],
   "source": [
    "//Select distinct neighborhood\n",
    "val barriosDf = df.select($\"DESC_BARRIO\").distinct\n",
    "barriosDf.show()"
   ]
  },
  {
   "cell_type": "code",
   "execution_count": 4,
   "id": "191b5897-cc5d-4cd4-b9b7-8703844902c9",
   "metadata": {
    "jupyter": {
     "source_hidden": true
    },
    "tags": []
   },
   "outputs": [],
   "source": [
    "//Create table view\n",
    "df.createOrReplaceTempView(\"padron\")"
   ]
  },
  {
   "cell_type": "code",
   "execution_count": 5,
   "id": "8ac08d02-f568-45d2-8b6f-e6ba3481576b",
   "metadata": {
    "collapsed": true,
    "jupyter": {
     "outputs_hidden": true,
     "source_hidden": true
    },
    "tags": []
   },
   "outputs": [
    {
     "name": "stdout",
     "output_type": "stream",
     "text": [
      "+-----------------+\n",
      "|      DESC_BARRIO|\n",
      "+-----------------+\n",
      "|    LOS JERONIMOS|\n",
      "|       NI�O JESUS|\n",
      "|         VALVERDE|\n",
      "|           CORTES|\n",
      "|PALOMERAS SURESTE|\n",
      "|        TRAFALGAR|\n",
      "|           HELLIN|\n",
      "|     VISTA ALEGRE|\n",
      "|        FONTARRON|\n",
      "|           VENTAS|\n",
      "| FUENTE DEL BERRO|\n",
      "|           LUCERO|\n",
      "|         PACIFICO|\n",
      "|   CUATRO CAMINOS|\n",
      "|CASCO H.VICALVARO|\n",
      "|         EL PILAR|\n",
      "|        ARGUELLES|\n",
      "|    VALDEACEDERAS|\n",
      "|         CANILLAS|\n",
      "|     VALLEHERMOSO|\n",
      "+-----------------+\n",
      "only showing top 20 rows\n",
      "\n"
     ]
    }
   ],
   "source": [
    "//Select distinct neighborhood from temp view\n",
    "spark.sql(\"SELECT DISTINCT(DESC_BARRIO) FROM padron\").show()"
   ]
  },
  {
   "cell_type": "code",
   "execution_count": 6,
   "id": "1bc17a4b-fc07-42a6-b4a1-10cd715da4ef",
   "metadata": {
    "collapsed": true,
    "jupyter": {
     "outputs_hidden": true,
     "source_hidden": true
    },
    "tags": []
   },
   "outputs": [
    {
     "name": "stdout",
     "output_type": "stream",
     "text": [
      "+-----------------+--------+\n",
      "|      DESC_BARRIO|LONGITUD|\n",
      "+-----------------+--------+\n",
      "|    LOS JERONIMOS|      13|\n",
      "|       NI�O JESUS|      10|\n",
      "|         VALVERDE|       8|\n",
      "|           CORTES|       6|\n",
      "|PALOMERAS SURESTE|      17|\n",
      "|        TRAFALGAR|       9|\n",
      "|           HELLIN|       6|\n",
      "|     VISTA ALEGRE|      12|\n",
      "|        FONTARRON|       9|\n",
      "|           VENTAS|       6|\n",
      "| FUENTE DEL BERRO|      16|\n",
      "|           LUCERO|       6|\n",
      "|         PACIFICO|       8|\n",
      "|   CUATRO CAMINOS|      14|\n",
      "|CASCO H.VICALVARO|      17|\n",
      "|         EL PILAR|       8|\n",
      "|        ARGUELLES|       9|\n",
      "|    VALDEACEDERAS|      13|\n",
      "|         CANILLAS|       8|\n",
      "|     VALLEHERMOSO|      12|\n",
      "+-----------------+--------+\n",
      "only showing top 20 rows\n",
      "\n"
     ]
    },
    {
     "data": {
      "text/plain": [
       "lengthBarrio: org.apache.spark.sql.DataFrame = [DESC_BARRIO: string, LONGITUD: int]\n"
      ]
     },
     "execution_count": 6,
     "metadata": {},
     "output_type": "execute_result"
    }
   ],
   "source": [
    "//Create a column with length of DESC_BARRIO\n",
    "val lengthBarrio = barriosDf.withColumn(\"LONGITUD\",length($\"DESC_BARRIO\"))\n",
    "lengthBarrio.show()"
   ]
  },
  {
   "cell_type": "code",
   "execution_count": 7,
   "id": "d6946729-498e-437b-af89-4233688d7612",
   "metadata": {
    "collapsed": true,
    "jupyter": {
     "outputs_hidden": true,
     "source_hidden": true
    },
    "tags": []
   },
   "outputs": [
    {
     "name": "stdout",
     "output_type": "stream",
     "text": [
      "+------------+-------------+---------------+-----------+----------+----------------+-----------+------------+----------------+----------------+------------------+------------------+---+\n",
      "|COD_DISTRITO|DESC_DISTRITO|COD_DIST_BARRIO|DESC_BARRIO|COD_BARRIO|COD_DIST_SECCION|COD_SECCION|COD_EDAD_INT|EspanolesHombres|EspanolesMujeres|ExtranjerosHombres|ExtranjerosMujeres|  5|\n",
      "+------------+-------------+---------------+-----------+----------+----------------+-----------+------------+----------------+----------------+------------------+------------------+---+\n",
      "|           1|       CENTRO|            101|    PALACIO|         1|            1001|          1|           0|               3|               1|                 1|                 0|  5|\n",
      "|           1|       CENTRO|            101|    PALACIO|         1|            1001|          1|           1|               5|               2|                 1|                 0|  5|\n",
      "|           1|       CENTRO|            101|    PALACIO|         1|            1001|          1|           2|               2|               2|                 1|                 3|  5|\n",
      "|           1|       CENTRO|            101|    PALACIO|         1|            1001|          1|           3|               4|               2|                 0|                 1|  5|\n",
      "|           1|       CENTRO|            101|    PALACIO|         1|            1001|          1|           4|               2|               0|                 1|                 2|  5|\n",
      "+------------+-------------+---------------+-----------+----------+----------------+-----------+------------+----------------+----------------+------------------+------------------+---+\n",
      "only showing top 5 rows\n",
      "\n",
      "+------------+-------------+---------------+-----------+----------+----------------+-----------+------------+----------------+----------------+------------------+------------------+\n",
      "|COD_DISTRITO|DESC_DISTRITO|COD_DIST_BARRIO|DESC_BARRIO|COD_BARRIO|COD_DIST_SECCION|COD_SECCION|COD_EDAD_INT|EspanolesHombres|EspanolesMujeres|ExtranjerosHombres|ExtranjerosMujeres|\n",
      "+------------+-------------+---------------+-----------+----------+----------------+-----------+------------+----------------+----------------+------------------+------------------+\n",
      "|           1|       CENTRO|            101|    PALACIO|         1|            1001|          1|           0|               3|               1|                 1|                 0|\n",
      "|           1|       CENTRO|            101|    PALACIO|         1|            1001|          1|           1|               5|               2|                 1|                 0|\n",
      "|           1|       CENTRO|            101|    PALACIO|         1|            1001|          1|           2|               2|               2|                 1|                 3|\n",
      "|           1|       CENTRO|            101|    PALACIO|         1|            1001|          1|           3|               4|               2|                 0|                 1|\n",
      "|           1|       CENTRO|            101|    PALACIO|         1|            1001|          1|           4|               2|               0|                 1|                 2|\n",
      "+------------+-------------+---------------+-----------+----------+----------------+-----------+------------+----------------+----------------+------------------+------------------+\n",
      "only showing top 5 rows\n",
      "\n"
     ]
    },
    {
     "data": {
      "text/plain": [
       "withColumn5Df: org.apache.spark.sql.DataFrame = [COD_DISTRITO: int, DESC_DISTRITO: string ... 11 more fields]\n"
      ]
     },
     "execution_count": 7,
     "metadata": {},
     "output_type": "execute_result"
    }
   ],
   "source": [
    "//Create a column with 5 for each record and drop the column\n",
    "val withColumn5Df = df.withColumn(\"5\",lit(\"5\"))\n",
    "withColumn5Df.show(5)\n",
    "withColumn5Df.drop($\"5\").show(5)"
   ]
  },
  {
   "cell_type": "code",
   "execution_count": 8,
   "id": "28058e58-5adf-42a9-9401-f383ab739f21",
   "metadata": {
    "tags": []
   },
   "outputs": [],
   "source": [
    "//Partition table by DESC_DISTRITO, DESC_BARRIO\n",
    "df.write.mode(\"overwrite\").option(\"sep\",\";\").option(\"header\",\"true\").partitionBy(\"DESC_DISTRITO\",\"DESC_BARRIO\").csv(\"/home/jovyan/LearningSpark2/output/padron/\")"
   ]
  },
  {
   "cell_type": "code",
   "execution_count": 9,
   "id": "c3327c07-aaba-452e-acb5-050e01fbbd07",
   "metadata": {
    "collapsed": true,
    "jupyter": {
     "outputs_hidden": true,
     "source_hidden": true
    },
    "tags": []
   },
   "outputs": [
    {
     "name": "stdout",
     "output_type": "stream",
     "text": [
      "+------------------+------------+-------------------+-------------------+---------------------+---------------------+\n",
      "|     DESC_DISTRITO| DESC_BARRIO|SumEspanolesHombres|SumEspanolesMujeres|SumExtranjerosHombres|SumExtranjerosMujeres|\n",
      "+------------------+------------+-------------------+-------------------+---------------------+---------------------+\n",
      "|PUENTE DE VALLECAS|   SAN DIEGO|              13889|              15566|                 6935|                 7096|\n",
      "|     CIUDAD LINEAL|PUEBLO NUEVO|              23112|              27183|                 5626|                 6415|\n",
      "|            LATINA|      ALUCHE|              24824|              29557|                 5451|                 6386|\n",
      "|       CARABANCHEL|VISTA ALEGRE|              15791|              19255|                 5553|                 6175|\n",
      "|            CENTRO| EMBAJADORES|              16389|              16338|                 7983|                 5895|\n",
      "+------------------+------------+-------------------+-------------------+---------------------+---------------------+\n",
      "only showing top 5 rows\n",
      "\n"
     ]
    },
    {
     "data": {
      "text/plain": [
       "res7: df.type = [COD_DISTRITO: int, DESC_DISTRITO: string ... 10 more fields]\n"
      ]
     },
     "execution_count": 9,
     "metadata": {},
     "output_type": "execute_result"
    }
   ],
   "source": [
    "/*\n",
    "Load df in cache\n",
    "group by ditrict and neighborhood ,show total of SpanishMen,SpanishWomen,ForeingMen,ForeignWomen ,order by ForeignWomen,ForeingMen\n",
    "Unload df of cache\n",
    "*/\n",
    "df.persist()\n",
    "df.select($\"DESC_DISTRITO\",$\"DESC_BARRIO\",$\"EspanolesHombres\",$\"EspanolesMujeres\",$\"ExtranjerosHombres\",$\"ExtranjerosMujeres\")\n",
    "    .groupBy($\"DESC_DISTRITO\",$\"DESC_BARRIO\")\n",
    "    .agg(sum($\"EspanolesHombres\").as(\"SumEspanolesHombres\")\n",
    "         ,sum($\"EspanolesMujeres\").as(\"SumEspanolesMujeres\")\n",
    "         ,sum($\"ExtranjerosHombres\").as(\"SumExtranjerosHombres\")\n",
    "         ,sum($\"ExtranjerosMujeres\").as(\"SumExtranjerosMujeres\"))\n",
    "    .orderBy(desc(\"SumExtranjerosMujeres\"),desc(\"SumExtranjerosHombres\")).show(5)\n",
    "df.unpersist()\n",
    "\n"
   ]
  },
  {
   "cell_type": "code",
   "execution_count": 10,
   "id": "d30d4f75-547c-4761-a04a-59cac4f7cfd8",
   "metadata": {
    "collapsed": true,
    "jupyter": {
     "outputs_hidden": true,
     "source_hidden": true
    },
    "tags": []
   },
   "outputs": [
    {
     "name": "stdout",
     "output_type": "stream",
     "text": [
      "+------------+---------------+----------+----------------+-----------+------------+----------------+----------------+------------------+------------------+-------------+-----------+-------------------+\n",
      "|COD_DISTRITO|COD_DIST_BARRIO|COD_BARRIO|COD_DIST_SECCION|COD_SECCION|COD_EDAD_INT|EspanolesHombres|EspanolesMujeres|ExtranjerosHombres|ExtranjerosMujeres|DESC_DISTRITO|DESC_BARRIO|SumEspanolesHombres|\n",
      "+------------+---------------+----------+----------------+-----------+------------+----------------+----------------+------------------+------------------+-------------+-----------+-------------------+\n",
      "|           1|            101|         1|            1004|          4|          37|               9|               5|                 2|                 7|       CENTRO|    PALACIO|               9197|\n",
      "|           1|            101|         1|            1008|          8|          76|               2|               3|                 0|                 0|       CENTRO|    PALACIO|               9197|\n",
      "|           1|            101|         1|            1004|          4|          59|               7|              15|                 0|                 1|       CENTRO|    PALACIO|               9197|\n",
      "|           1|            101|         1|            1008|          8|          42|               5|               5|                 1|                 0|       CENTRO|    PALACIO|               9197|\n",
      "+------------+---------------+----------+----------------+-----------+------------+----------------+----------------+------------------+------------------+-------------+-----------+-------------------+\n",
      "only showing top 4 rows\n",
      "\n",
      "+------------+-------------+---------------+-----------+----------+----------------+-----------+------------+----------------+----------------+------------------+------------------+-------------------+\n",
      "|COD_DISTRITO|DESC_DISTRITO|COD_DIST_BARRIO|DESC_BARRIO|COD_BARRIO|COD_DIST_SECCION|COD_SECCION|COD_EDAD_INT|EspanolesHombres|EspanolesMujeres|ExtranjerosHombres|ExtranjerosMujeres|SumEspanolesHombres|\n",
      "+------------+-------------+---------------+-----------+----------+----------------+-----------+------------+----------------+----------------+------------------+------------------+-------------------+\n",
      "|           1|       CENTRO|            101|    PALACIO|         1|            1001|          1|           2|               2|               2|                 1|                 3|               9197|\n",
      "|           1|       CENTRO|            101|    PALACIO|         1|            1001|          1|           4|               2|               0|                 1|                 2|               9197|\n",
      "|           1|       CENTRO|            101|    PALACIO|         1|            1001|          1|           1|               5|               2|                 1|                 0|               9197|\n",
      "|           1|       CENTRO|            101|    PALACIO|         1|            1001|          1|           0|               3|               1|                 1|                 0|               9197|\n",
      "+------------+-------------+---------------+-----------+----------+----------------+-----------+------------+----------------+----------------+------------------+------------------+-------------------+\n",
      "only showing top 4 rows\n",
      "\n"
     ]
    },
    {
     "data": {
      "text/plain": [
       "newDf: org.apache.spark.sql.DataFrame = [DESC_DISTRITO: string, DESC_BARRIO: string ... 1 more field]\n",
       "import org.apache.spark.sql.expressions.{Window, WindowSpec}\n",
       "window: org.apache.spark.sql.expressions.WindowSpec = org.apache.spark.sql.expressions.WindowSpec@47e2bc65\n"
      ]
     },
     "execution_count": 10,
     "metadata": {},
     "output_type": "execute_result"
    }
   ],
   "source": [
    "/*\n",
    "Create a new DataFrame from df with DESC_DISTRITO,DESC_BARRIO,SumEspanolesHombres\n",
    "Join with df\n",
    "Do the same with window functions\n",
    "*/\n",
    "val newDf = df.select($\"DESC_DISTRITO\",$\"DESC_BARRIO\",$\"EspanolesHombres\")\n",
    "        .groupBy($\"DESC_DISTRITO\",$\"DESC_BARRIO\")\n",
    "        .agg(sum($\"EspanolesHombres\").as(\"SumEspanolesHombres\"))\n",
    "        \n",
    "df.join(newDf,df(\"DESC_DISTRITO\")<=>newDf(\"DESC_DISTRITO\") && df(\"DESC_BARRIO\")<=>newDf(\"DESC_BARRIO\"))\n",
    "    .drop(newDf(\"DESC_DISTRITO\"))\n",
    "    .drop(newDf(\"DESC_BARRIO\"))\n",
    "    .dropDuplicates()\n",
    "    .orderBy($\"COD_DISTRITO\",$\"COD_DIST_BARRIO\")\n",
    "    .show(4)\n",
    "import org.apache.spark.sql.expressions.{Window, WindowSpec}\n",
    "val window = Window.partitionBy($\"DESC_DISTRITO\",$\"DESC_BARRIO\")\n",
    "df.withColumn(\"SumEspanolesHombres\",sum($\"EspanolesHombres\").over(window))\n",
    "    .orderBy($\"COD_DISTRITO\",$\"COD_DIST_BARRIO\")\n",
    "    .show(4)"
   ]
  },
  {
   "cell_type": "code",
   "execution_count": 13,
   "id": "3e7e3ca3-e856-4adc-b511-0b3793ac6d03",
   "metadata": {
    "collapsed": true,
    "jupyter": {
     "outputs_hidden": true,
     "source_hidden": true
    },
    "tags": []
   },
   "outputs": [
    {
     "name": "stdout",
     "output_type": "stream",
     "text": [
      "+------------+-------+------+------+\n",
      "|COD_EDAD_INT|BARAJAS|CENTRO|RETIRO|\n",
      "+------------+-------+------+------+\n",
      "|           0|    148|   245|   298|\n",
      "|           1|    157|   247|   325|\n",
      "|           2|    166|   209|   366|\n",
      "|           3|    181|   217|   365|\n",
      "|           4|    206|   237|   420|\n",
      "|           5|    211|   221|   408|\n",
      "|           6|    241|   244|   406|\n",
      "|           7|    236|   231|   462|\n",
      "|           8|    232|   231|   423|\n",
      "|           9|    240|   237|   422|\n",
      "|          10|    261|   255|   405|\n",
      "|          11|    242|   238|   427|\n",
      "|          12|    256|   245|   424|\n",
      "|          13|    277|   274|   437|\n",
      "|          14|    244|   255|   411|\n",
      "|          15|    260|   244|   417|\n",
      "|          16|    276|   266|   426|\n",
      "|          17|    261|   255|   415|\n",
      "|          18|    231|   294|   456|\n",
      "|          19|    241|   284|   415|\n",
      "+------------+-------+------+------+\n",
      "only showing top 20 rows\n",
      "\n"
     ]
    },
    {
     "data": {
      "text/plain": [
       "pivotDf: org.apache.spark.sql.Dataset[org.apache.spark.sql.Row] = [COD_EDAD_INT: int, BARAJAS: bigint ... 2 more fields]\n"
      ]
     },
     "execution_count": 13,
     "metadata": {},
     "output_type": "execute_result"
    }
   ],
   "source": [
    "/*\n",
    "Show sum of the EspanolesMujeres group by COD_EDAD_INT in BARAJAS,CENTRO,RETIRO\n",
    "*/\n",
    "val pivotDf = df.filter($\"DESC_DISTRITO\".equalTo(\"CENTRO\") || $\"DESC_DISTRITO\".equalTo(\"BARAJAS\") || $\"DESC_DISTRITO\".equalTo(\"RETIRO\"))\n",
    "    .groupBy($\"COD_EDAD_INT\")\n",
    "    .pivot($\"DESC_DISTRITO\").sum(\"EspanolesMujeres\")\n",
    "    .orderBy($\"COD_EDAD_INT\")\n",
    "\n",
    "pivotDf.show()\n",
    "\n",
    "/*val percentOfTotalWomen = pivotDf.withColumn(\"potwBARAJAS\",$\"BARAJAS\"/sum($\"BARAJAS\").over(window))\n",
    "    .withColumn(\"potwCENTRO\",$\"CENTRO\"/sum($\"CENTRO\"))\n",
    "    .withColumn(\"potwRETIRO\",$\"RETIRO\"/sum($\"RETIRO\"))*/\n",
    "    \n"
   ]
  },
  {
   "cell_type": "code",
   "execution_count": null,
   "id": "feb16ccb-e89b-48da-93f1-2325c06ced93",
   "metadata": {},
   "outputs": [],
   "source": [
    "df.repartition($\"\")"
   ]
  }
 ],
 "metadata": {
  "kernelspec": {
   "display_name": "spylon-kernel",
   "language": "scala",
   "name": "spylon-kernel"
  },
  "language_info": {
   "codemirror_mode": "text/x-scala",
   "file_extension": ".scala",
   "help_links": [
    {
     "text": "MetaKernel Magics",
     "url": "https://metakernel.readthedocs.io/en/latest/source/README.html"
    }
   ],
   "mimetype": "text/x-scala",
   "name": "scala",
   "pygments_lexer": "scala",
   "version": "0.4.1"
  }
 },
 "nbformat": 4,
 "nbformat_minor": 5
}
